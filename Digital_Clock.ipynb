{
  "nbformat": 4,
  "nbformat_minor": 0,
  "metadata": {
    "colab": {
      "provenance": []
    },
    "kernelspec": {
      "name": "python3",
      "display_name": "Python 3"
    },
    "language_info": {
      "name": "python"
    }
  },
  "cells": [
    {
      "cell_type": "code",
      "execution_count": null,
      "metadata": {
        "colab": {
          "base_uri": "https://localhost:8080/"
        },
        "id": "OuO2PSKXszrh",
        "outputId": "eb849c7a-5f28-4cc3-d1aa-e064a75756ad"
      },
      "outputs": [
        {
          "output_type": "stream",
          "name": "stdout",
          "text": [
            " 19:38:59"
          ]
        }
      ],
      "source": [
        "import time\n",
        "\n",
        "def digital_clock():\n",
        "    while True:\n",
        "        current_time = time.strftime(\"%H:%M:%S\")\n",
        "        print(\"\\r\", current_time, end=\"\", flush=True)\n",
        "        time.sleep(1)\n",
        "\n",
        "if __name__ == \"__main__\":\n",
        "    try:\n",
        "        digital_clock()\n",
        "    except KeyboardInterrupt:\n",
        "        print(\"\\nClock stopped.\")"
      ]
    }
  ]
}